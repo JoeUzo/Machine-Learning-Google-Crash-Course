{
 "cells": [
  {
   "cell_type": "markdown",
   "id": "d06cb0b7",
   "metadata": {},
   "source": [
    "## Load Imports"
   ]
  },
  {
   "cell_type": "markdown",
   "id": "6a72a299",
   "metadata": {},
   "source": [
    "#### Instal required libraries"
   ]
  },
  {
   "cell_type": "code",
   "execution_count": 4,
   "id": "f49852d0",
   "metadata": {},
   "outputs": [
    {
     "name": "stdout",
     "output_type": "stream",
     "text": [
      "Requirement already satisfied: google-ml-edu==0.1.2 in c:\\users\\pc\\documents\\machine learning google crash course\\.venv\\lib\\site-packages (0.1.2)\n",
      "Requirement already satisfied: keras~=3.11.0 in c:\\users\\pc\\documents\\machine learning google crash course\\.venv\\lib\\site-packages (3.11.3)\n",
      "Requirement already satisfied: matplotlib~=3.10.0 in c:\\users\\pc\\documents\\machine learning google crash course\\.venv\\lib\\site-packages (3.10.5)\n",
      "Requirement already satisfied: numpy~=2.0.0 in c:\\users\\pc\\documents\\machine learning google crash course\\.venv\\lib\\site-packages (2.0.2)\n",
      "Requirement already satisfied: pandas~=2.2.0 in c:\\users\\pc\\documents\\machine learning google crash course\\.venv\\lib\\site-packages (2.2.3)\n",
      "Requirement already satisfied: tensorflow~=2.20.0 in c:\\users\\pc\\documents\\machine learning google crash course\\.venv\\lib\\site-packages (2.20.0)\n",
      "Collecting plotly~=6.3.0\n",
      "  Using cached plotly-6.3.0-py3-none-any.whl.metadata (8.5 kB)\n",
      "Requirement already satisfied: absl-py in c:\\users\\pc\\documents\\machine learning google crash course\\.venv\\lib\\site-packages (from keras~=3.11.0) (2.3.1)\n",
      "Requirement already satisfied: rich in c:\\users\\pc\\documents\\machine learning google crash course\\.venv\\lib\\site-packages (from keras~=3.11.0) (14.1.0)\n",
      "Requirement already satisfied: namex in c:\\users\\pc\\documents\\machine learning google crash course\\.venv\\lib\\site-packages (from keras~=3.11.0) (0.1.0)\n",
      "Requirement already satisfied: h5py in c:\\users\\pc\\documents\\machine learning google crash course\\.venv\\lib\\site-packages (from keras~=3.11.0) (3.14.0)\n",
      "Requirement already satisfied: optree in c:\\users\\pc\\documents\\machine learning google crash course\\.venv\\lib\\site-packages (from keras~=3.11.0) (0.17.0)\n",
      "Requirement already satisfied: ml-dtypes in c:\\users\\pc\\documents\\machine learning google crash course\\.venv\\lib\\site-packages (from keras~=3.11.0) (0.5.3)\n",
      "Requirement already satisfied: packaging in c:\\users\\pc\\documents\\machine learning google crash course\\.venv\\lib\\site-packages (from keras~=3.11.0) (25.0)\n",
      "Requirement already satisfied: contourpy>=1.0.1 in c:\\users\\pc\\documents\\machine learning google crash course\\.venv\\lib\\site-packages (from matplotlib~=3.10.0) (1.3.3)\n",
      "Requirement already satisfied: cycler>=0.10 in c:\\users\\pc\\documents\\machine learning google crash course\\.venv\\lib\\site-packages (from matplotlib~=3.10.0) (0.12.1)\n",
      "Requirement already satisfied: fonttools>=4.22.0 in c:\\users\\pc\\documents\\machine learning google crash course\\.venv\\lib\\site-packages (from matplotlib~=3.10.0) (4.59.2)\n",
      "Requirement already satisfied: kiwisolver>=1.3.1 in c:\\users\\pc\\documents\\machine learning google crash course\\.venv\\lib\\site-packages (from matplotlib~=3.10.0) (1.4.9)\n",
      "Requirement already satisfied: pillow>=8 in c:\\users\\pc\\documents\\machine learning google crash course\\.venv\\lib\\site-packages (from matplotlib~=3.10.0) (11.3.0)\n",
      "Requirement already satisfied: pyparsing>=2.3.1 in c:\\users\\pc\\documents\\machine learning google crash course\\.venv\\lib\\site-packages (from matplotlib~=3.10.0) (3.2.3)\n",
      "Requirement already satisfied: python-dateutil>=2.7 in c:\\users\\pc\\documents\\machine learning google crash course\\.venv\\lib\\site-packages (from matplotlib~=3.10.0) (2.9.0.post0)\n",
      "Requirement already satisfied: pytz>=2020.1 in c:\\users\\pc\\documents\\machine learning google crash course\\.venv\\lib\\site-packages (from pandas~=2.2.0) (2025.2)\n",
      "Requirement already satisfied: tzdata>=2022.7 in c:\\users\\pc\\documents\\machine learning google crash course\\.venv\\lib\\site-packages (from pandas~=2.2.0) (2025.2)\n",
      "Requirement already satisfied: astunparse>=1.6.0 in c:\\users\\pc\\documents\\machine learning google crash course\\.venv\\lib\\site-packages (from tensorflow~=2.20.0) (1.6.3)\n",
      "Requirement already satisfied: flatbuffers>=24.3.25 in c:\\users\\pc\\documents\\machine learning google crash course\\.venv\\lib\\site-packages (from tensorflow~=2.20.0) (25.2.10)\n",
      "Requirement already satisfied: gast!=0.5.0,!=0.5.1,!=0.5.2,>=0.2.1 in c:\\users\\pc\\documents\\machine learning google crash course\\.venv\\lib\\site-packages (from tensorflow~=2.20.0) (0.6.0)\n",
      "Requirement already satisfied: google_pasta>=0.1.1 in c:\\users\\pc\\documents\\machine learning google crash course\\.venv\\lib\\site-packages (from tensorflow~=2.20.0) (0.2.0)\n",
      "Requirement already satisfied: libclang>=13.0.0 in c:\\users\\pc\\documents\\machine learning google crash course\\.venv\\lib\\site-packages (from tensorflow~=2.20.0) (18.1.1)\n",
      "Requirement already satisfied: opt_einsum>=2.3.2 in c:\\users\\pc\\documents\\machine learning google crash course\\.venv\\lib\\site-packages (from tensorflow~=2.20.0) (3.4.0)\n",
      "Requirement already satisfied: protobuf>=5.28.0 in c:\\users\\pc\\documents\\machine learning google crash course\\.venv\\lib\\site-packages (from tensorflow~=2.20.0) (5.29.5)\n",
      "Requirement already satisfied: requests<3,>=2.21.0 in c:\\users\\pc\\documents\\machine learning google crash course\\.venv\\lib\\site-packages (from tensorflow~=2.20.0) (2.32.5)\n",
      "Requirement already satisfied: setuptools in c:\\users\\pc\\documents\\machine learning google crash course\\.venv\\lib\\site-packages (from tensorflow~=2.20.0) (80.9.0)\n",
      "Requirement already satisfied: six>=1.12.0 in c:\\users\\pc\\documents\\machine learning google crash course\\.venv\\lib\\site-packages (from tensorflow~=2.20.0) (1.17.0)\n",
      "Requirement already satisfied: termcolor>=1.1.0 in c:\\users\\pc\\documents\\machine learning google crash course\\.venv\\lib\\site-packages (from tensorflow~=2.20.0) (3.1.0)\n",
      "Requirement already satisfied: typing_extensions>=3.6.6 in c:\\users\\pc\\documents\\machine learning google crash course\\.venv\\lib\\site-packages (from tensorflow~=2.20.0) (4.15.0)\n",
      "Requirement already satisfied: wrapt>=1.11.0 in c:\\users\\pc\\documents\\machine learning google crash course\\.venv\\lib\\site-packages (from tensorflow~=2.20.0) (1.17.3)\n",
      "Requirement already satisfied: grpcio<2.0,>=1.24.3 in c:\\users\\pc\\documents\\machine learning google crash course\\.venv\\lib\\site-packages (from tensorflow~=2.20.0) (1.74.0)\n",
      "Requirement already satisfied: tensorboard~=2.20.0 in c:\\users\\pc\\documents\\machine learning google crash course\\.venv\\lib\\site-packages (from tensorflow~=2.20.0) (2.20.0)\n",
      "Collecting narwhals>=1.15.1 (from plotly~=6.3.0)\n",
      "  Downloading narwhals-2.2.0-py3-none-any.whl.metadata (11 kB)\n",
      "Requirement already satisfied: wheel<1.0,>=0.23.0 in c:\\users\\pc\\documents\\machine learning google crash course\\.venv\\lib\\site-packages (from astunparse>=1.6.0->tensorflow~=2.20.0) (0.45.1)\n",
      "Requirement already satisfied: charset_normalizer<4,>=2 in c:\\users\\pc\\documents\\machine learning google crash course\\.venv\\lib\\site-packages (from requests<3,>=2.21.0->tensorflow~=2.20.0) (3.4.3)\n",
      "Requirement already satisfied: idna<4,>=2.5 in c:\\users\\pc\\documents\\machine learning google crash course\\.venv\\lib\\site-packages (from requests<3,>=2.21.0->tensorflow~=2.20.0) (3.10)\n",
      "Requirement already satisfied: urllib3<3,>=1.21.1 in c:\\users\\pc\\documents\\machine learning google crash course\\.venv\\lib\\site-packages (from requests<3,>=2.21.0->tensorflow~=2.20.0) (2.5.0)\n",
      "Requirement already satisfied: certifi>=2017.4.17 in c:\\users\\pc\\documents\\machine learning google crash course\\.venv\\lib\\site-packages (from requests<3,>=2.21.0->tensorflow~=2.20.0) (2025.8.3)\n",
      "Requirement already satisfied: markdown>=2.6.8 in c:\\users\\pc\\documents\\machine learning google crash course\\.venv\\lib\\site-packages (from tensorboard~=2.20.0->tensorflow~=2.20.0) (3.8.2)\n",
      "Requirement already satisfied: tensorboard-data-server<0.8.0,>=0.7.0 in c:\\users\\pc\\documents\\machine learning google crash course\\.venv\\lib\\site-packages (from tensorboard~=2.20.0->tensorflow~=2.20.0) (0.7.2)\n",
      "Requirement already satisfied: werkzeug>=1.0.1 in c:\\users\\pc\\documents\\machine learning google crash course\\.venv\\lib\\site-packages (from tensorboard~=2.20.0->tensorflow~=2.20.0) (3.1.3)\n",
      "Requirement already satisfied: markdown-it-py>=2.2.0 in c:\\users\\pc\\documents\\machine learning google crash course\\.venv\\lib\\site-packages (from rich->keras~=3.11.0) (4.0.0)\n",
      "Requirement already satisfied: pygments<3.0.0,>=2.13.0 in c:\\users\\pc\\documents\\machine learning google crash course\\.venv\\lib\\site-packages (from rich->keras~=3.11.0) (2.19.2)\n",
      "Requirement already satisfied: mdurl~=0.1 in c:\\users\\pc\\documents\\machine learning google crash course\\.venv\\lib\\site-packages (from markdown-it-py>=2.2.0->rich->keras~=3.11.0) (0.1.2)\n",
      "Requirement already satisfied: MarkupSafe>=2.1.1 in c:\\users\\pc\\documents\\machine learning google crash course\\.venv\\lib\\site-packages (from werkzeug>=1.0.1->tensorboard~=2.20.0->tensorflow~=2.20.0) (3.0.2)\n",
      "Using cached plotly-6.3.0-py3-none-any.whl (9.8 MB)\n",
      "Downloading narwhals-2.2.0-py3-none-any.whl (401 kB)\n",
      "Installing collected packages: narwhals, plotly\n",
      "Successfully installed narwhals-2.2.0 plotly-6.3.0\n",
      "\n",
      "\n",
      "All requirements successfully installed.\n"
     ]
    },
    {
     "name": "stderr",
     "output_type": "stream",
     "text": [
      "\n",
      "[notice] A new release of pip is available: 25.0.1 -> 25.2\n",
      "[notice] To update, run: python.exe -m pip install --upgrade pip\n"
     ]
    }
   ],
   "source": [
    "!pip install google-ml-edu==0.1.2 \\\n",
    "    keras~=3.11.0 \\\n",
    "    matplotlib~=3.10.0 \\\n",
    "    numpy~=2.0.0 \\\n",
    "    pandas~=2.2.0 \\\n",
    "    tensorflow~=2.20.0 \\\n",
    "    plotly~=6.3.0\n",
    "\n",
    "print('\\n\\nAll requirements successfully installed.')"
   ]
  },
  {
   "cell_type": "markdown",
   "id": "04041761",
   "metadata": {},
   "source": [
    "#### Load the imports"
   ]
  },
  {
   "cell_type": "code",
   "execution_count": 5,
   "id": "9cd19241",
   "metadata": {},
   "outputs": [],
   "source": [
    "import keras\n",
    "import ml_edu.experiment\n",
    "import ml_edu.results\n",
    "import numpy as np\n",
    "import pandas as pd\n",
    "import plotly.express as px"
   ]
  },
  {
   "cell_type": "code",
   "execution_count": 11,
   "id": "9ce5129c",
   "metadata": {},
   "outputs": [],
   "source": [
    "# The following lines adjust the granularity of reporting.\n",
    "pd.options.display.max_rows = 10\n",
    "pd.options.display.float_format = \"{:.1f}\".format"
   ]
  },
  {
   "cell_type": "markdown",
   "id": "55bf8a21",
   "metadata": {},
   "source": [
    "#### Load the datasets"
   ]
  },
  {
   "cell_type": "code",
   "execution_count": 12,
   "id": "5b96dfd3",
   "metadata": {},
   "outputs": [],
   "source": [
    "rice_dataset_raw = pd.read_csv(\"https://download.mlcc.google.com/mledu-datasets/Rice_Cammeo_Osmancik.csv\")"
   ]
  },
  {
   "cell_type": "code",
   "execution_count": 13,
   "id": "578aa92e",
   "metadata": {},
   "outputs": [
    {
     "data": {
      "text/plain": [
       "(3810, 8)"
      ]
     },
     "execution_count": 13,
     "metadata": {},
     "output_type": "execute_result"
    }
   ],
   "source": [
    "rice_dataset_raw.shape"
   ]
  },
  {
   "cell_type": "code",
   "execution_count": 14,
   "id": "5937d62e",
   "metadata": {},
   "outputs": [
    {
     "data": {
      "text/html": [
       "<div>\n",
       "<style scoped>\n",
       "    .dataframe tbody tr th:only-of-type {\n",
       "        vertical-align: middle;\n",
       "    }\n",
       "\n",
       "    .dataframe tbody tr th {\n",
       "        vertical-align: top;\n",
       "    }\n",
       "\n",
       "    .dataframe thead th {\n",
       "        text-align: right;\n",
       "    }\n",
       "</style>\n",
       "<table border=\"1\" class=\"dataframe\">\n",
       "  <thead>\n",
       "    <tr style=\"text-align: right;\">\n",
       "      <th></th>\n",
       "      <th>Area</th>\n",
       "      <th>Perimeter</th>\n",
       "      <th>Major_Axis_Length</th>\n",
       "      <th>Minor_Axis_Length</th>\n",
       "      <th>Eccentricity</th>\n",
       "      <th>Convex_Area</th>\n",
       "      <th>Extent</th>\n",
       "      <th>Class</th>\n",
       "    </tr>\n",
       "  </thead>\n",
       "  <tbody>\n",
       "    <tr>\n",
       "      <th>0</th>\n",
       "      <td>15231</td>\n",
       "      <td>525.6</td>\n",
       "      <td>229.7</td>\n",
       "      <td>85.1</td>\n",
       "      <td>0.9</td>\n",
       "      <td>15617</td>\n",
       "      <td>0.6</td>\n",
       "      <td>Cammeo</td>\n",
       "    </tr>\n",
       "    <tr>\n",
       "      <th>1</th>\n",
       "      <td>14656</td>\n",
       "      <td>494.3</td>\n",
       "      <td>206.0</td>\n",
       "      <td>91.7</td>\n",
       "      <td>0.9</td>\n",
       "      <td>15072</td>\n",
       "      <td>0.6</td>\n",
       "      <td>Cammeo</td>\n",
       "    </tr>\n",
       "    <tr>\n",
       "      <th>2</th>\n",
       "      <td>14634</td>\n",
       "      <td>501.1</td>\n",
       "      <td>214.1</td>\n",
       "      <td>87.8</td>\n",
       "      <td>0.9</td>\n",
       "      <td>14954</td>\n",
       "      <td>0.7</td>\n",
       "      <td>Cammeo</td>\n",
       "    </tr>\n",
       "    <tr>\n",
       "      <th>3</th>\n",
       "      <td>13176</td>\n",
       "      <td>458.3</td>\n",
       "      <td>193.3</td>\n",
       "      <td>87.4</td>\n",
       "      <td>0.9</td>\n",
       "      <td>13368</td>\n",
       "      <td>0.6</td>\n",
       "      <td>Cammeo</td>\n",
       "    </tr>\n",
       "    <tr>\n",
       "      <th>4</th>\n",
       "      <td>14688</td>\n",
       "      <td>507.2</td>\n",
       "      <td>211.7</td>\n",
       "      <td>89.3</td>\n",
       "      <td>0.9</td>\n",
       "      <td>15262</td>\n",
       "      <td>0.6</td>\n",
       "      <td>Cammeo</td>\n",
       "    </tr>\n",
       "  </tbody>\n",
       "</table>\n",
       "</div>"
      ],
      "text/plain": [
       "    Area  Perimeter  Major_Axis_Length  Minor_Axis_Length  Eccentricity  \\\n",
       "0  15231      525.6              229.7               85.1           0.9   \n",
       "1  14656      494.3              206.0               91.7           0.9   \n",
       "2  14634      501.1              214.1               87.8           0.9   \n",
       "3  13176      458.3              193.3               87.4           0.9   \n",
       "4  14688      507.2              211.7               89.3           0.9   \n",
       "\n",
       "   Convex_Area  Extent   Class  \n",
       "0        15617     0.6  Cammeo  \n",
       "1        15072     0.6  Cammeo  \n",
       "2        14954     0.7  Cammeo  \n",
       "3        13368     0.6  Cammeo  \n",
       "4        15262     0.6  Cammeo  "
      ]
     },
     "execution_count": 14,
     "metadata": {},
     "output_type": "execute_result"
    }
   ],
   "source": [
    "rice_dataset_raw.head()"
   ]
  },
  {
   "cell_type": "code",
   "execution_count": 15,
   "id": "349173eb",
   "metadata": {},
   "outputs": [
    {
     "data": {
      "text/html": [
       "<div>\n",
       "<style scoped>\n",
       "    .dataframe tbody tr th:only-of-type {\n",
       "        vertical-align: middle;\n",
       "    }\n",
       "\n",
       "    .dataframe tbody tr th {\n",
       "        vertical-align: top;\n",
       "    }\n",
       "\n",
       "    .dataframe thead th {\n",
       "        text-align: right;\n",
       "    }\n",
       "</style>\n",
       "<table border=\"1\" class=\"dataframe\">\n",
       "  <thead>\n",
       "    <tr style=\"text-align: right;\">\n",
       "      <th></th>\n",
       "      <th>Area</th>\n",
       "      <th>Perimeter</th>\n",
       "      <th>Major_Axis_Length</th>\n",
       "      <th>Minor_Axis_Length</th>\n",
       "      <th>Eccentricity</th>\n",
       "      <th>Convex_Area</th>\n",
       "      <th>Extent</th>\n",
       "    </tr>\n",
       "  </thead>\n",
       "  <tbody>\n",
       "    <tr>\n",
       "      <th>count</th>\n",
       "      <td>3810.0</td>\n",
       "      <td>3810.0</td>\n",
       "      <td>3810.0</td>\n",
       "      <td>3810.0</td>\n",
       "      <td>3810.0</td>\n",
       "      <td>3810.0</td>\n",
       "      <td>3810.0</td>\n",
       "    </tr>\n",
       "    <tr>\n",
       "      <th>mean</th>\n",
       "      <td>12667.7</td>\n",
       "      <td>454.2</td>\n",
       "      <td>188.8</td>\n",
       "      <td>86.3</td>\n",
       "      <td>0.9</td>\n",
       "      <td>12952.5</td>\n",
       "      <td>0.7</td>\n",
       "    </tr>\n",
       "    <tr>\n",
       "      <th>std</th>\n",
       "      <td>1732.4</td>\n",
       "      <td>35.6</td>\n",
       "      <td>17.4</td>\n",
       "      <td>5.7</td>\n",
       "      <td>0.0</td>\n",
       "      <td>1777.0</td>\n",
       "      <td>0.1</td>\n",
       "    </tr>\n",
       "    <tr>\n",
       "      <th>min</th>\n",
       "      <td>7551.0</td>\n",
       "      <td>359.1</td>\n",
       "      <td>145.3</td>\n",
       "      <td>59.5</td>\n",
       "      <td>0.8</td>\n",
       "      <td>7723.0</td>\n",
       "      <td>0.5</td>\n",
       "    </tr>\n",
       "    <tr>\n",
       "      <th>25%</th>\n",
       "      <td>11370.5</td>\n",
       "      <td>426.1</td>\n",
       "      <td>174.4</td>\n",
       "      <td>82.7</td>\n",
       "      <td>0.9</td>\n",
       "      <td>11626.2</td>\n",
       "      <td>0.6</td>\n",
       "    </tr>\n",
       "    <tr>\n",
       "      <th>50%</th>\n",
       "      <td>12421.5</td>\n",
       "      <td>448.9</td>\n",
       "      <td>185.8</td>\n",
       "      <td>86.4</td>\n",
       "      <td>0.9</td>\n",
       "      <td>12706.5</td>\n",
       "      <td>0.6</td>\n",
       "    </tr>\n",
       "    <tr>\n",
       "      <th>75%</th>\n",
       "      <td>13950.0</td>\n",
       "      <td>483.7</td>\n",
       "      <td>203.6</td>\n",
       "      <td>90.1</td>\n",
       "      <td>0.9</td>\n",
       "      <td>14284.0</td>\n",
       "      <td>0.7</td>\n",
       "    </tr>\n",
       "    <tr>\n",
       "      <th>max</th>\n",
       "      <td>18913.0</td>\n",
       "      <td>548.4</td>\n",
       "      <td>239.0</td>\n",
       "      <td>107.5</td>\n",
       "      <td>0.9</td>\n",
       "      <td>19099.0</td>\n",
       "      <td>0.9</td>\n",
       "    </tr>\n",
       "  </tbody>\n",
       "</table>\n",
       "</div>"
      ],
      "text/plain": [
       "         Area  Perimeter  Major_Axis_Length  Minor_Axis_Length  Eccentricity  \\\n",
       "count  3810.0     3810.0             3810.0             3810.0        3810.0   \n",
       "mean  12667.7      454.2              188.8               86.3           0.9   \n",
       "std    1732.4       35.6               17.4                5.7           0.0   \n",
       "min    7551.0      359.1              145.3               59.5           0.8   \n",
       "25%   11370.5      426.1              174.4               82.7           0.9   \n",
       "50%   12421.5      448.9              185.8               86.4           0.9   \n",
       "75%   13950.0      483.7              203.6               90.1           0.9   \n",
       "max   18913.0      548.4              239.0              107.5           0.9   \n",
       "\n",
       "       Convex_Area  Extent  \n",
       "count       3810.0  3810.0  \n",
       "mean       12952.5     0.7  \n",
       "std         1777.0     0.1  \n",
       "min         7723.0     0.5  \n",
       "25%        11626.2     0.6  \n",
       "50%        12706.5     0.6  \n",
       "75%        14284.0     0.7  \n",
       "max        19099.0     0.9  "
      ]
     },
     "execution_count": 15,
     "metadata": {},
     "output_type": "execute_result"
    }
   ],
   "source": [
    "# Read and provide statistics on the dataset.\n",
    "rice_dataset = rice_dataset_raw[[\n",
    "    'Area',\n",
    "    'Perimeter',\n",
    "    'Major_Axis_Length',\n",
    "    'Minor_Axis_Length',\n",
    "    'Eccentricity',\n",
    "    'Convex_Area',\n",
    "    'Extent',\n",
    "    'Class',\n",
    "]]\n",
    "\n",
    "rice_dataset.describe()"
   ]
  },
  {
   "cell_type": "markdown",
   "id": "e13e5138",
   "metadata": {},
   "source": [
    "## Task 1: Describe the data\n",
    "\n",
    "From the summary statistics above, answer the following questions:\n",
    "- What are the min and max lengths (major axis length, given in pixels) of the rice grains?\n",
    "- What is the range of areas between the smallest and largest rice grains?\n",
    "- How many standard deviations (`std`) is the largest rice grain's perimeter from the mean?"
   ]
  },
  {
   "cell_type": "code",
   "execution_count": 27,
   "id": "d0e08738",
   "metadata": {},
   "outputs": [
    {
     "name": "stdout",
     "output_type": "stream",
     "text": [
      "The min Length of the major axis is 145.3 \n",
      "The max length of the major axis is 239.0\n"
     ]
    }
   ],
   "source": [
    "min = float(np.min(rice_dataset.Major_Axis_Length))\n",
    "\n",
    "print(\n",
    "    f\"The min Length of the major axis is {float(np.min(rice_dataset.Major_Axis_Length)):.1f} \\n\"\n",
    "    f\"The max length of the major axis is {rice_dataset.Major_Axis_Length.max():.1f}\"\n",
    ")"
   ]
  },
  {
   "cell_type": "code",
   "execution_count": null,
   "id": "3a00f324",
   "metadata": {},
   "outputs": [],
   "source": []
  }
 ],
 "metadata": {
  "kernelspec": {
   "display_name": ".venv (3.12.10)",
   "language": "python",
   "name": "python3"
  },
  "language_info": {
   "codemirror_mode": {
    "name": "ipython",
    "version": 3
   },
   "file_extension": ".py",
   "mimetype": "text/x-python",
   "name": "python",
   "nbconvert_exporter": "python",
   "pygments_lexer": "ipython3",
   "version": "3.12.10"
  }
 },
 "nbformat": 4,
 "nbformat_minor": 5
}
